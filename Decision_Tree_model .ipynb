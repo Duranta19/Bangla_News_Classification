{
 "cells": [
  {
   "cell_type": "code",
   "execution_count": 1,
   "id": "c10d40aa",
   "metadata": {},
   "outputs": [],
   "source": [
    "import pandas as pd"
   ]
  },
  {
   "cell_type": "code",
   "execution_count": 2,
   "id": "ddb16322",
   "metadata": {},
   "outputs": [],
   "source": [
    "data = pd.read_csv(\"clean_dataset.csv\")"
   ]
  },
  {
   "cell_type": "code",
   "execution_count": 3,
   "id": "ef6302a0",
   "metadata": {},
   "outputs": [
    {
     "data": {
      "text/html": [
       "<div>\n",
       "<style scoped>\n",
       "    .dataframe tbody tr th:only-of-type {\n",
       "        vertical-align: middle;\n",
       "    }\n",
       "\n",
       "    .dataframe tbody tr th {\n",
       "        vertical-align: top;\n",
       "    }\n",
       "\n",
       "    .dataframe thead th {\n",
       "        text-align: right;\n",
       "    }\n",
       "</style>\n",
       "<table border=\"1\" class=\"dataframe\">\n",
       "  <thead>\n",
       "    <tr style=\"text-align: right;\">\n",
       "      <th></th>\n",
       "      <th>Unnamed: 0</th>\n",
       "      <th>title</th>\n",
       "      <th>content</th>\n",
       "      <th>category</th>\n",
       "    </tr>\n",
       "  </thead>\n",
       "  <tbody>\n",
       "    <tr>\n",
       "      <th>0</th>\n",
       "      <td>0</td>\n",
       "      <td>কালিয়াকৈরে টিফিন খেয়ে ৫০০ শ্রমিক অসুস্থ, বিক...</td>\n",
       "      <td>গাজীপুরের কালিয়াকৈর উপজেলার তেলিরচালা এলাকায়...</td>\n",
       "      <td>bangladesh</td>\n",
       "    </tr>\n",
       "    <tr>\n",
       "      <th>1</th>\n",
       "      <td>1</td>\n",
       "      <td>সেমিফাইনাল বাধাও পেরিয়ে গেলেন লিসিকি</td>\n",
       "      <td>এবারের উইম্বলডনটা স্মরণীয় রাখার মিশনেই নেমেছে...</td>\n",
       "      <td>sports</td>\n",
       "    </tr>\n",
       "    <tr>\n",
       "      <th>2</th>\n",
       "      <td>2</td>\n",
       "      <td>সংসদে খালেদার অভিযোগের জবাব দিয়েছে ভারত</td>\n",
       "      <td>জাতীয় সংসদে বিএনপি চেয়ারপারসন বিরোধীদলীয় নে...</td>\n",
       "      <td>bangladesh</td>\n",
       "    </tr>\n",
       "    <tr>\n",
       "      <th>3</th>\n",
       "      <td>3</td>\n",
       "      <td>পাসওয়ার্ড ভুলে যান!</td>\n",
       "      <td>সহজ পাসওয়ার্ডের কারণে অনলাইন অ্যাকাউন্ট সহজেই...</td>\n",
       "      <td>technology</td>\n",
       "    </tr>\n",
       "    <tr>\n",
       "      <th>4</th>\n",
       "      <td>4</td>\n",
       "      <td>চলে গেলেন মাউস উদ্ভাবক</td>\n",
       "      <td>কম্পিউটার মাউসের উদ্ভাবক ডগলাস অ্যাঙ্গেলবার্ট ...</td>\n",
       "      <td>technology</td>\n",
       "    </tr>\n",
       "  </tbody>\n",
       "</table>\n",
       "</div>"
      ],
      "text/plain": [
       "   Unnamed: 0                                              title   \n",
       "0           0  কালিয়াকৈরে টিফিন খেয়ে ৫০০ শ্রমিক অসুস্থ, বিক...  \\\n",
       "1           1              সেমিফাইনাল বাধাও পেরিয়ে গেলেন লিসিকি   \n",
       "2           2           সংসদে খালেদার অভিযোগের জবাব দিয়েছে ভারত   \n",
       "3           3                               পাসওয়ার্ড ভুলে যান!   \n",
       "4           4                             চলে গেলেন মাউস উদ্ভাবক   \n",
       "\n",
       "                                             content    category  \n",
       "0  গাজীপুরের কালিয়াকৈর উপজেলার তেলিরচালা এলাকায়...  bangladesh  \n",
       "1  এবারের উইম্বলডনটা স্মরণীয় রাখার মিশনেই নেমেছে...      sports  \n",
       "2  জাতীয় সংসদে বিএনপি চেয়ারপারসন বিরোধীদলীয় নে...  bangladesh  \n",
       "3  সহজ পাসওয়ার্ডের কারণে অনলাইন অ্যাকাউন্ট সহজেই...  technology  \n",
       "4  কম্পিউটার মাউসের উদ্ভাবক ডগলাস অ্যাঙ্গেলবার্ট ...  technology  "
      ]
     },
     "execution_count": 3,
     "metadata": {},
     "output_type": "execute_result"
    }
   ],
   "source": [
    "data.head(5)"
   ]
  },
  {
   "cell_type": "code",
   "execution_count": 4,
   "id": "2826d10c",
   "metadata": {},
   "outputs": [
    {
     "data": {
      "text/plain": [
       "category\n",
       "bangladesh       232504\n",
       "sports            49012\n",
       "international     30856\n",
       "entertainment     30466\n",
       "economy           17245\n",
       "opinion           15699\n",
       "technology        12116\n",
       "life-style        10852\n",
       "education          9721\n",
       "Name: count, dtype: int64"
      ]
     },
     "execution_count": 4,
     "metadata": {},
     "output_type": "execute_result"
    }
   ],
   "source": [
    "data['category'].value_counts()"
   ]
  },
  {
   "cell_type": "code",
   "execution_count": 5,
   "id": "a602fa24",
   "metadata": {},
   "outputs": [],
   "source": [
    "temp_df1 = data[data['category'] == 'bangladesh'][:10000]\n",
    "temp_df2 = data[data['category'] == 'international'][:10000]\n",
    "temp_df3 = data[data['category'] == 'entertainment'][:10000]\n",
    "temp_df4 = data[data['category'] == 'economy'][:10000]\n",
    "temp_df5 = data[data['category'] == 'opinion'][:10000]\n",
    "temp_df6 = data[data['category'] == 'technology'][:10000]\n",
    "temp_df7 = data[data['category'] == 'life-style'][:10000]\n",
    "temp_df8 = data[data['category'] == 'sports'][:10000]\n",
    "\n",
    "temp_data = pd.concat([temp_df1,temp_df2,temp_df3,temp_df4,temp_df5,temp_df6,temp_df7,temp_df8])"
   ]
  },
  {
   "cell_type": "code",
   "execution_count": 6,
   "id": "9d3ac271",
   "metadata": {},
   "outputs": [
    {
     "data": {
      "text/html": [
       "<div>\n",
       "<style scoped>\n",
       "    .dataframe tbody tr th:only-of-type {\n",
       "        vertical-align: middle;\n",
       "    }\n",
       "\n",
       "    .dataframe tbody tr th {\n",
       "        vertical-align: top;\n",
       "    }\n",
       "\n",
       "    .dataframe thead th {\n",
       "        text-align: right;\n",
       "    }\n",
       "</style>\n",
       "<table border=\"1\" class=\"dataframe\">\n",
       "  <thead>\n",
       "    <tr style=\"text-align: right;\">\n",
       "      <th></th>\n",
       "      <th>Unnamed: 0</th>\n",
       "      <th>title</th>\n",
       "      <th>content</th>\n",
       "      <th>category</th>\n",
       "    </tr>\n",
       "  </thead>\n",
       "  <tbody>\n",
       "    <tr>\n",
       "      <th>0</th>\n",
       "      <td>0</td>\n",
       "      <td>কালিয়াকৈরে টিফিন খেয়ে ৫০০ শ্রমিক অসুস্থ, বিক...</td>\n",
       "      <td>গাজীপুরের কালিয়াকৈর উপজেলার তেলিরচালা এলাকায়...</td>\n",
       "      <td>bangladesh</td>\n",
       "    </tr>\n",
       "    <tr>\n",
       "      <th>2</th>\n",
       "      <td>2</td>\n",
       "      <td>সংসদে খালেদার অভিযোগের জবাব দিয়েছে ভারত</td>\n",
       "      <td>জাতীয় সংসদে বিএনপি চেয়ারপারসন বিরোধীদলীয় নে...</td>\n",
       "      <td>bangladesh</td>\n",
       "    </tr>\n",
       "    <tr>\n",
       "      <th>6</th>\n",
       "      <td>6</td>\n",
       "      <td>খালেদা দুষ্টু কথা বলেছেন: স্বরাষ্ট্রমন্ত্রী</td>\n",
       "      <td>যুক্তরাষ্ট্রের বাজারে জিএসপি-সুবিধা বন্ধ প্রসঙ...</td>\n",
       "      <td>bangladesh</td>\n",
       "    </tr>\n",
       "    <tr>\n",
       "      <th>7</th>\n",
       "      <td>7</td>\n",
       "      <td>আরও ১১টি বিমা কোম্পানি অনুমোদন পেল</td>\n",
       "      <td>১১টি বিমা কোম্পানিকে লাইসেন্সের অনুমোদন বিমা উ...</td>\n",
       "      <td>bangladesh</td>\n",
       "    </tr>\n",
       "    <tr>\n",
       "      <th>8</th>\n",
       "      <td>8</td>\n",
       "      <td>সিএনজি স্টেশনে কাল থেকে অনির্দিষ্টকালের ধর্মঘট</td>\n",
       "      <td>ম্যাজিস্ট্রেটের সিলেটে সিএনজি স্টেশনের এক মালি...</td>\n",
       "      <td>bangladesh</td>\n",
       "    </tr>\n",
       "  </tbody>\n",
       "</table>\n",
       "</div>"
      ],
      "text/plain": [
       "   Unnamed: 0                                              title   \n",
       "0           0  কালিয়াকৈরে টিফিন খেয়ে ৫০০ শ্রমিক অসুস্থ, বিক...  \\\n",
       "2           2           সংসদে খালেদার অভিযোগের জবাব দিয়েছে ভারত   \n",
       "6           6        খালেদা দুষ্টু কথা বলেছেন: স্বরাষ্ট্রমন্ত্রী   \n",
       "7           7                 আরও ১১টি বিমা কোম্পানি অনুমোদন পেল   \n",
       "8           8     সিএনজি স্টেশনে কাল থেকে অনির্দিষ্টকালের ধর্মঘট   \n",
       "\n",
       "                                             content    category  \n",
       "0  গাজীপুরের কালিয়াকৈর উপজেলার তেলিরচালা এলাকায়...  bangladesh  \n",
       "2  জাতীয় সংসদে বিএনপি চেয়ারপারসন বিরোধীদলীয় নে...  bangladesh  \n",
       "6  যুক্তরাষ্ট্রের বাজারে জিএসপি-সুবিধা বন্ধ প্রসঙ...  bangladesh  \n",
       "7  ১১টি বিমা কোম্পানিকে লাইসেন্সের অনুমোদন বিমা উ...  bangladesh  \n",
       "8  ম্যাজিস্ট্রেটের সিলেটে সিএনজি স্টেশনের এক মালি...  bangladesh  "
      ]
     },
     "execution_count": 6,
     "metadata": {},
     "output_type": "execute_result"
    }
   ],
   "source": [
    "temp_data.head(5)"
   ]
  },
  {
   "cell_type": "code",
   "execution_count": 7,
   "id": "340c5681",
   "metadata": {},
   "outputs": [],
   "source": [
    "temp_data = temp_data.sample(frac = 1)"
   ]
  },
  {
   "cell_type": "code",
   "execution_count": 8,
   "id": "f3254d8e",
   "metadata": {},
   "outputs": [
    {
     "data": {
      "text/html": [
       "<div>\n",
       "<style scoped>\n",
       "    .dataframe tbody tr th:only-of-type {\n",
       "        vertical-align: middle;\n",
       "    }\n",
       "\n",
       "    .dataframe tbody tr th {\n",
       "        vertical-align: top;\n",
       "    }\n",
       "\n",
       "    .dataframe thead th {\n",
       "        text-align: right;\n",
       "    }\n",
       "</style>\n",
       "<table border=\"1\" class=\"dataframe\">\n",
       "  <thead>\n",
       "    <tr style=\"text-align: right;\">\n",
       "      <th></th>\n",
       "      <th>Unnamed: 0</th>\n",
       "      <th>title</th>\n",
       "      <th>content</th>\n",
       "      <th>category</th>\n",
       "    </tr>\n",
       "  </thead>\n",
       "  <tbody>\n",
       "    <tr>\n",
       "      <th>200453</th>\n",
       "      <td>200453</td>\n",
       "      <td>বন্ধুদের প্রেম</td>\n",
       "      <td>জানতাম বিশ্ব বন্ধুত্ব দিবস আগস্ট মাসে যেহেতু ব...</td>\n",
       "      <td>life-style</td>\n",
       "    </tr>\n",
       "    <tr>\n",
       "      <th>64149</th>\n",
       "      <td>64149</td>\n",
       "      <td>ক্যানভাস ও আলোচনায় চিরকালের সুচিত্রা</td>\n",
       "      <td>বাংলা চলচ্চিত্রে তিন প্রজন্মের দর্শক সুশ্রী অভ...</td>\n",
       "      <td>entertainment</td>\n",
       "    </tr>\n",
       "    <tr>\n",
       "      <th>73879</th>\n",
       "      <td>73879</td>\n",
       "      <td>বিসিবির ইউনিভার্সিটি কাপ</td>\n",
       "      <td>সরকারি বিশ্ববিদ্যালয়গুলোকে আন্তবিশ্ববিদ্যালয়...</td>\n",
       "      <td>sports</td>\n",
       "    </tr>\n",
       "    <tr>\n",
       "      <th>51385</th>\n",
       "      <td>51385</td>\n",
       "      <td>হলো না শেখ জামালের</td>\n",
       "      <td>শেখ জামাল যুবভারতী ক্রীড়াঙ্গনে ১২০ মিনিট দাপিয়...</td>\n",
       "      <td>sports</td>\n",
       "    </tr>\n",
       "    <tr>\n",
       "      <th>74863</th>\n",
       "      <td>74863</td>\n",
       "      <td>চার তরুণের ক্যারিবিয়ান চ্যালেঞ্জ</td>\n",
       "      <td>শরীরটা এখনো পেস বোলারসুলভ পোক্ত হাঁটাচলায় অস্...</td>\n",
       "      <td>sports</td>\n",
       "    </tr>\n",
       "  </tbody>\n",
       "</table>\n",
       "</div>"
      ],
      "text/plain": [
       "        Unnamed: 0                                 title   \n",
       "200453      200453                        বন্ধুদের প্রেম  \\\n",
       "64149        64149  ক্যানভাস ও আলোচনায় চিরকালের সুচিত্রা   \n",
       "73879        73879              বিসিবির ইউনিভার্সিটি কাপ   \n",
       "51385        51385                    হলো না শেখ জামালের   \n",
       "74863        74863     চার তরুণের ক্যারিবিয়ান চ্যালেঞ্জ   \n",
       "\n",
       "                                                  content       category  \n",
       "200453  জানতাম বিশ্ব বন্ধুত্ব দিবস আগস্ট মাসে যেহেতু ব...     life-style  \n",
       "64149   বাংলা চলচ্চিত্রে তিন প্রজন্মের দর্শক সুশ্রী অভ...  entertainment  \n",
       "73879   সরকারি বিশ্ববিদ্যালয়গুলোকে আন্তবিশ্ববিদ্যালয়...         sports  \n",
       "51385   শেখ জামাল যুবভারতী ক্রীড়াঙ্গনে ১২০ মিনিট দাপিয়...         sports  \n",
       "74863   শরীরটা এখনো পেস বোলারসুলভ পোক্ত হাঁটাচলায় অস্...         sports  "
      ]
     },
     "execution_count": 8,
     "metadata": {},
     "output_type": "execute_result"
    }
   ],
   "source": [
    "temp_data.head(5)"
   ]
  },
  {
   "cell_type": "code",
   "execution_count": 9,
   "id": "cb5d691f",
   "metadata": {},
   "outputs": [
    {
     "data": {
      "image/png": "[encoded data removed]",
      "text/plain": [
       "<Figure size 640x480 with 1 Axes>"
      ]
     },
     "metadata": {},
     "output_type": "display_data"
    }
   ],
   "source": [
    "from matplotlib import pyplot as plt\n",
    "\n",
    "count_classes = temp_data.category.value_counts()\n",
    "count_classes.plot(kind = 'bar', rot=0)\n",
    "plt.xlabel(\"Class\")\n",
    "plt.ylabel(\"Frequency\")\n",
    "plt.show()"
   ]
  },
  {
   "cell_type": "code",
   "execution_count": 10,
   "id": "71467b3f",
   "metadata": {},
   "outputs": [],
   "source": [
    "X = temp_data.loc[:,(\"content\")]\n",
    "Y = temp_data.loc[:,(\"category\")]"
   ]
  },
  {
   "cell_type": "code",
   "execution_count": 11,
   "id": "696e683d",
   "metadata": {},
   "outputs": [
    {
     "data": {
      "text/plain": [
       "category\n",
       "life-style       10000\n",
       "entertainment    10000\n",
       "sports           10000\n",
       "bangladesh       10000\n",
       "opinion          10000\n",
       "technology       10000\n",
       "international    10000\n",
       "economy          10000\n",
       "Name: count, dtype: int64"
      ]
     },
     "execution_count": 11,
     "metadata": {},
     "output_type": "execute_result"
    }
   ],
   "source": [
    "Y.value_counts()"
   ]
  },
  {
   "cell_type": "code",
   "execution_count": 12,
   "id": "2391fe25",
   "metadata": {},
   "outputs": [],
   "source": [
    "from sklearn.model_selection import train_test_split\n",
    "from sklearn.preprocessing import LabelEncoder\n",
    "from sklearn.feature_extraction.text import TfidfVectorizer\n",
    "from sklearn.feature_extraction.text import CountVectorizer"
   ]
  },
  {
   "cell_type": "code",
   "execution_count": 13,
   "id": "e4f8aa56",
   "metadata": {},
   "outputs": [],
   "source": [
    "x_train,x_test,y_train,y_test = train_test_split(X,Y, test_size=0.2)"
   ]
  },
  {
   "cell_type": "code",
   "execution_count": 14,
   "id": "09de5e90",
   "metadata": {},
   "outputs": [
    {
     "name": "stdout",
     "output_type": "stream",
     "text": [
      "(64000,)\n",
      "category\n",
      "entertainment    8020\n",
      "sports           8018\n",
      "opinion          8014\n",
      "bangladesh       8014\n",
      "economy          8013\n",
      "life-style       8002\n",
      "international    7971\n",
      "technology       7948\n",
      "Name: count, dtype: int64\n"
     ]
    }
   ],
   "source": [
    "print(x_train.shape)\n",
    "print(y_train.value_counts())"
   ]
  },
  {
   "cell_type": "code",
   "execution_count": 15,
   "id": "78174f8f",
   "metadata": {},
   "outputs": [],
   "source": [
    "en = LabelEncoder()\n",
    "cv = CountVectorizer()\n",
    "tfidf = TfidfVectorizer(max_df=0.1)\n",
    "\n",
    "Tf_en_x_train = tfidf.fit_transform(x_train.values.astype(str))\n",
    "en_y_train = en.fit_transform(y_train)\n",
    "\n",
    "Tf_en_x_test = tfidf.transform(x_test.values.astype(str))\n",
    "en_y_test = en.transform(y_test)"
   ]
  },
  {
   "cell_type": "code",
   "execution_count": 16,
   "id": "0ad803a5",
   "metadata": {},
   "outputs": [
    {
     "name": "stdout",
     "output_type": "stream",
     "text": [
      "(64000, 43042)\n",
      "(64000,)\n",
      "(16000, 43042)\n"
     ]
    }
   ],
   "source": [
    "print(Tf_en_x_train.shape)\n",
    "\n",
    "print(en_y_train.shape)\n",
    "\n",
    "print(Tf_en_x_test.shape)\n"
   ]
  },
  {
   "cell_type": "code",
   "execution_count": 17,
   "id": "da0aca3a",
   "metadata": {},
   "outputs": [
    {
     "name": "stdout",
     "output_type": "stream",
     "text": [
      "[6 7 5 6 1 6 5 2 1 0 6 3 7 0 4]\n",
      "['sports' 'technology' 'opinion' 'sports' 'economy' 'sports' 'opinion'\n",
      " 'entertainment' 'economy' 'bangladesh' 'sports' 'international'\n",
      " 'technology' 'bangladesh' 'life-style']\n"
     ]
    }
   ],
   "source": [
    "print(en_y_train[0:15])\n",
    "print(en.inverse_transform(en_y_train)[0:15])"
   ]
  },
  {
   "cell_type": "code",
   "execution_count": 18,
   "id": "8c669af3",
   "metadata": {},
   "outputs": [],
   "source": [
    "feture_class =['bangladesh','economy', 'entertainment', 'international', 'life-style', 'opinion', 'sports', 'technology']"
   ]
  },
  {
   "cell_type": "code",
   "execution_count": 19,
   "id": "01ff802c",
   "metadata": {},
   "outputs": [
    {
     "data": {
      "text/html": [
       "<style>#sk-container-id-1 {color: black;background-color: white;}#sk-container-id-1 pre{padding: 0;}#sk-container-id-1 div.sk-toggleable {background-color: white;}#sk-container-id-1 label.sk-toggleable__label {cursor: pointer;display: block;width: 100%;margin-bottom: 0;padding: 0.3em;box-sizing: border-box;text-align: center;}#sk-container-id-1 label.sk-toggleable__label-arrow:before {content: \"▸\";float: left;margin-right: 0.25em;color: #696969;}#sk-container-id-1 label.sk-toggleable__label-arrow:hover:before {color: black;}#sk-container-id-1 div.sk-estimator:hover label.sk-toggleable__label-arrow:before {color: black;}#sk-container-id-1 div.sk-toggleable__content {max-height: 0;max-width: 0;overflow: hidden;text-align: left;background-color: #f0f8ff;}#sk-container-id-1 div.sk-toggleable__content pre {margin: 0.2em;color: black;border-radius: 0.25em;background-color: #f0f8ff;}#sk-container-id-1 input.sk-toggleable__control:checked~div.sk-toggleable__content {max-height: 200px;max-width: 100%;overflow: auto;}#sk-container-id-1 input.sk-toggleable__control:checked~label.sk-toggleable__label-arrow:before {content: \"▾\";}#sk-container-id-1 div.sk-estimator input.sk-toggleable__control:checked~label.sk-toggleable__label {background-color: #d4ebff;}#sk-container-id-1 div.sk-label input.sk-toggleable__control:checked~label.sk-toggleable__label {background-color: #d4ebff;}#sk-container-id-1 input.sk-hidden--visually {border: 0;clip: rect(1px 1px 1px 1px);clip: rect(1px, 1px, 1px, 1px);height: 1px;margin: -1px;overflow: hidden;padding: 0;position: absolute;width: 1px;}#sk-container-id-1 div.sk-estimator {font-family: monospace;background-color: #f0f8ff;border: 1px dotted black;border-radius: 0.25em;box-sizing: border-box;margin-bottom: 0.5em;}#sk-container-id-1 div.sk-estimator:hover {background-color: #d4ebff;}#sk-container-id-1 div.sk-parallel-item::after {content: \"\";width: 100%;border-bottom: 1px solid gray;flex-grow: 1;}#sk-container-id-1 div.sk-label:hover label.sk-toggleable__label {background-color: #d4ebff;}#sk-container-id-1 div.sk-serial::before {content: \"\";position: absolute;border-left: 1px solid gray;box-sizing: border-box;top: 0;bottom: 0;left: 50%;z-index: 0;}#sk-container-id-1 div.sk-serial {display: flex;flex-direction: column;align-items: center;background-color: white;padding-right: 0.2em;padding-left: 0.2em;position: relative;}#sk-container-id-1 div.sk-item {position: relative;z-index: 1;}#sk-container-id-1 div.sk-parallel {display: flex;align-items: stretch;justify-content: center;background-color: white;position: relative;}#sk-container-id-1 div.sk-item::before, #sk-container-id-1 div.sk-parallel-item::before {content: \"\";position: absolute;border-left: 1px solid gray;box-sizing: border-box;top: 0;bottom: 0;left: 50%;z-index: -1;}#sk-container-id-1 div.sk-parallel-item {display: flex;flex-direction: column;z-index: 1;position: relative;background-color: white;}#sk-container-id-1 div.sk-parallel-item:first-child::after {align-self: flex-end;width: 50%;}#sk-container-id-1 div.sk-parallel-item:last-child::after {align-self: flex-start;width: 50%;}#sk-container-id-1 div.sk-parallel-item:only-child::after {width: 0;}#sk-container-id-1 div.sk-dashed-wrapped {border: 1px dashed gray;margin: 0 0.4em 0.5em 0.4em;box-sizing: border-box;padding-bottom: 0.4em;background-color: white;}#sk-container-id-1 div.sk-label label {font-family: monospace;font-weight: bold;display: inline-block;line-height: 1.2em;}#sk-container-id-1 div.sk-label-container {text-align: center;}#sk-container-id-1 div.sk-container {/* jupyter's `normalize.less` sets `[hidden] { display: none; }` but bootstrap.min.css set `[hidden] { display: none !important; }` so we also need the `!important` here to be able to override the default hidden behavior on the sphinx rendered scikit-learn.org. See: https://github.com/scikit-learn/scikit-learn/issues/21755 */display: inline-block !important;position: relative;}#sk-container-id-1 div.sk-text-repr-fallback {display: none;}</style><div id=\"sk-container-id-1\" class=\"sk-top-container\"><div class=\"sk-text-repr-fallback\"><pre>MultinomialNB()</pre><b>In a Jupyter environment, please rerun this cell to show the HTML representation or trust the notebook. <br />On GitHub, the HTML representation is unable to render, please try loading this page with nbviewer.org.</b></div><div class=\"sk-container\" hidden><div class=\"sk-item\"><div class=\"sk-estimator sk-toggleable\"><input class=\"sk-toggleable__control sk-hidden--visually\" id=\"sk-estimator-id-1\" type=\"checkbox\" checked><label for=\"sk-estimator-id-1\" class=\"sk-toggleable__label sk-toggleable__label-arrow\">MultinomialNB</label><div class=\"sk-toggleable__content\"><pre>MultinomialNB()</pre></div></div></div></div></div>"
      ],
      "text/plain": [
       "MultinomialNB()"
      ]
     },
     "execution_count": 19,
     "metadata": {},
     "output_type": "execute_result"
    }
   ],
   "source": [
    "from sklearn.naive_bayes import MultinomialNB\n",
    "\n",
    "nb_model = MultinomialNB()\n",
    "\n",
    "nb_model.fit(Tf_en_x_train,en_y_train)"
   ]
  },
  {
   "cell_type": "code",
   "execution_count": 20,
   "id": "38ee5312",
   "metadata": {},
   "outputs": [
    {
     "name": "stdout",
     "output_type": "stream",
     "text": [
      "              precision    recall  f1-score   support\n",
      "\n",
      "           0       0.86      0.85      0.86      1986\n",
      "           1       0.82      0.83      0.83      1987\n",
      "           2       0.90      0.85      0.88      1980\n",
      "           3       0.91      0.80      0.85      2029\n",
      "           4       0.82      0.80      0.81      1998\n",
      "           5       0.66      0.91      0.76      1986\n",
      "           6       0.93      0.90      0.92      1982\n",
      "           7       0.89      0.77      0.82      2052\n",
      "\n",
      "    accuracy                           0.84     16000\n",
      "   macro avg       0.85      0.84      0.84     16000\n",
      "weighted avg       0.85      0.84      0.84     16000\n",
      "\n",
      "0.8383125\n"
     ]
    }
   ],
   "source": [
    "from sklearn.metrics import classification_report\n",
    "from sklearn.metrics import accuracy_score\n",
    "\n",
    "nb_pred = nb_model.predict(Tf_en_x_test)\n",
    "nb_acc = accuracy_score(en_y_test, nb_pred)\n",
    "\n",
    "print(classification_report(en_y_test,nb_pred))\n",
    "print(nb_model.score(Tf_en_x_test,en_y_test))"
   ]
  },
  {
   "cell_type": "code",
   "execution_count": 22,
   "id": "e3dbaffb",
   "metadata": {},
   "outputs": [
    {
     "name": "stdout",
     "output_type": "stream",
     "text": [
      "[[6912  371   81   90  120  397    8   35]\n",
      " [ 288 6897   34   70   83  388   16  237]\n",
      " [  98   30 7062  116  207  297  149   61]\n",
      " [ 162   92  109 6587  131  718   94   78]\n",
      " [  38   94  263   46 6576  735   48  202]\n",
      " [ 113  171   33  150  144 7341   31   31]\n",
      " [ 109   69   82   76   57  171 7413   41]\n",
      " [  97  356   80  175  400  399   91 6350]]\n",
      "0.86153125\n"
     ]
    }
   ],
   "source": [
    "from sklearn.metrics import confusion_matrix\n",
    "nb_pred2 = nb_model.predict(Tf_en_x_train)\n",
    "cm = confusion_matrix(en_y_train,nb_pred2)\n",
    "print(cm)\n",
    "print(accuracy_score(en_y_train, nb_pred2))\n",
    "# print(y_test.value_counts())"
   ]
  },
  {
   "cell_type": "code",
   "execution_count": 23,
   "id": "5e9403f7",
   "metadata": {},
   "outputs": [
    {
     "name": "stdout",
     "output_type": "stream",
     "text": [
      "[[0.00135936 0.00144633 0.0150273  ... 0.01627477 0.93898071 0.00332592]\n",
      " [0.00370086 0.03149124 0.06194969 ... 0.0635849  0.04091323 0.61027939]\n",
      " [0.02808805 0.00309088 0.00215652 ... 0.91503368 0.00346426 0.00201145]\n",
      " ...\n",
      " [0.68960661 0.01353437 0.01695404 ... 0.19383966 0.01756668 0.01079076]\n",
      " [0.01209232 0.0146203  0.72100222 ... 0.09403859 0.07252192 0.01180793]\n",
      " [0.05456267 0.03417716 0.01266366 ... 0.05427797 0.00841514 0.00615379]]\n"
     ]
    }
   ],
   "source": [
    "class_probability = nb_model.predict_proba(Tf_en_x_train)\n",
    "print(class_probability)"
   ]
  },
  {
   "cell_type": "code",
   "execution_count": 26,
   "id": "ec6af534",
   "metadata": {},
   "outputs": [],
   "source": [
    "# weight_list = []\n",
    "# for l in class_probability:\n",
    "#     maxi = 0\n",
    "#     maxi = max(l)\n",
    "#     weight_list.append(maxi)\n",
    "# print(len(weight_list))\n",
    "# print(weight_list)"
   ]
  },
  {
   "cell_type": "code",
   "execution_count": 24,
   "id": "d03b1b63",
   "metadata": {},
   "outputs": [
    {
     "name": "stdout",
     "output_type": "stream",
     "text": [
      "64000\n",
      "[0.9389807068245304, 0.61027939073196, 0.9150336772633699, 0.3649801619245646, 0.867464160465832, 0.9929817269019894, 0.8822568533159755, 0.749999540850575, 0.9641033725879308, 0.42832029163397084, 0.2777494964440563, 0.3011209928220242, 0.43685805867972866, 0.9775250089494004, 0.945607775638789, 0.47985855809796907, 0.14527973146449122, 0.6185262091588755, 0.36679575055662866, 0.1494240660425575]\n"
     ]
    }
   ],
   "source": [
    "weight_list2 = []\n",
    "i = 0\n",
    "for l in class_probability:\n",
    "    prb = l[en_y_train[i]]\n",
    "    weight_list2.append(prb)\n",
    "    i+=1\n",
    "print(len(weight_list2))\n",
    "print(weight_list2[:20])"
   ]
  },
  {
   "cell_type": "code",
   "execution_count": 25,
   "id": "6e952064",
   "metadata": {},
   "outputs": [],
   "source": [
    "weights = {0: 0.13, 1: 0.12, 2: 0.12, 3: 0.12, 3:0.12, 4: 0.12, 5: 0.13, 6: 0.13, 7: 0.12}"
   ]
  },
  {
   "cell_type": "code",
   "execution_count": 26,
   "id": "18d2675a",
   "metadata": {},
   "outputs": [
    {
     "data": {
      "text/html": [
       "<style>#sk-container-id-2 {color: black;background-color: white;}#sk-container-id-2 pre{padding: 0;}#sk-container-id-2 div.sk-toggleable {background-color: white;}#sk-container-id-2 label.sk-toggleable__label {cursor: pointer;display: block;width: 100%;margin-bottom: 0;padding: 0.3em;box-sizing: border-box;text-align: center;}#sk-container-id-2 label.sk-toggleable__label-arrow:before {content: \"▸\";float: left;margin-right: 0.25em;color: #696969;}#sk-container-id-2 label.sk-toggleable__label-arrow:hover:before {color: black;}#sk-container-id-2 div.sk-estimator:hover label.sk-toggleable__label-arrow:before {color: black;}#sk-container-id-2 div.sk-toggleable__content {max-height: 0;max-width: 0;overflow: hidden;text-align: left;background-color: #f0f8ff;}#sk-container-id-2 div.sk-toggleable__content pre {margin: 0.2em;color: black;border-radius: 0.25em;background-color: #f0f8ff;}#sk-container-id-2 input.sk-toggleable__control:checked~div.sk-toggleable__content {max-height: 200px;max-width: 100%;overflow: auto;}#sk-container-id-2 input.sk-toggleable__control:checked~label.sk-toggleable__label-arrow:before {content: \"▾\";}#sk-container-id-2 div.sk-estimator input.sk-toggleable__control:checked~label.sk-toggleable__label {background-color: #d4ebff;}#sk-container-id-2 div.sk-label input.sk-toggleable__control:checked~label.sk-toggleable__label {background-color: #d4ebff;}#sk-container-id-2 input.sk-hidden--visually {border: 0;clip: rect(1px 1px 1px 1px);clip: rect(1px, 1px, 1px, 1px);height: 1px;margin: -1px;overflow: hidden;padding: 0;position: absolute;width: 1px;}#sk-container-id-2 div.sk-estimator {font-family: monospace;background-color: #f0f8ff;border: 1px dotted black;border-radius: 0.25em;box-sizing: border-box;margin-bottom: 0.5em;}#sk-container-id-2 div.sk-estimator:hover {background-color: #d4ebff;}#sk-container-id-2 div.sk-parallel-item::after {content: \"\";width: 100%;border-bottom: 1px solid gray;flex-grow: 1;}#sk-container-id-2 div.sk-label:hover label.sk-toggleable__label {background-color: #d4ebff;}#sk-container-id-2 div.sk-serial::before {content: \"\";position: absolute;border-left: 1px solid gray;box-sizing: border-box;top: 0;bottom: 0;left: 50%;z-index: 0;}#sk-container-id-2 div.sk-serial {display: flex;flex-direction: column;align-items: center;background-color: white;padding-right: 0.2em;padding-left: 0.2em;position: relative;}#sk-container-id-2 div.sk-item {position: relative;z-index: 1;}#sk-container-id-2 div.sk-parallel {display: flex;align-items: stretch;justify-content: center;background-color: white;position: relative;}#sk-container-id-2 div.sk-item::before, #sk-container-id-2 div.sk-parallel-item::before {content: \"\";position: absolute;border-left: 1px solid gray;box-sizing: border-box;top: 0;bottom: 0;left: 50%;z-index: -1;}#sk-container-id-2 div.sk-parallel-item {display: flex;flex-direction: column;z-index: 1;position: relative;background-color: white;}#sk-container-id-2 div.sk-parallel-item:first-child::after {align-self: flex-end;width: 50%;}#sk-container-id-2 div.sk-parallel-item:last-child::after {align-self: flex-start;width: 50%;}#sk-container-id-2 div.sk-parallel-item:only-child::after {width: 0;}#sk-container-id-2 div.sk-dashed-wrapped {border: 1px dashed gray;margin: 0 0.4em 0.5em 0.4em;box-sizing: border-box;padding-bottom: 0.4em;background-color: white;}#sk-container-id-2 div.sk-label label {font-family: monospace;font-weight: bold;display: inline-block;line-height: 1.2em;}#sk-container-id-2 div.sk-label-container {text-align: center;}#sk-container-id-2 div.sk-container {/* jupyter's `normalize.less` sets `[hidden] { display: none; }` but bootstrap.min.css set `[hidden] { display: none !important; }` so we also need the `!important` here to be able to override the default hidden behavior on the sphinx rendered scikit-learn.org. See: https://github.com/scikit-learn/scikit-learn/issues/21755 */display: inline-block !important;position: relative;}#sk-container-id-2 div.sk-text-repr-fallback {display: none;}</style><div id=\"sk-container-id-2\" class=\"sk-top-container\"><div class=\"sk-text-repr-fallback\"><pre>DecisionTreeClassifier(random_state=85)</pre><b>In a Jupyter environment, please rerun this cell to show the HTML representation or trust the notebook. <br />On GitHub, the HTML representation is unable to render, please try loading this page with nbviewer.org.</b></div><div class=\"sk-container\" hidden><div class=\"sk-item\"><div class=\"sk-estimator sk-toggleable\"><input class=\"sk-toggleable__control sk-hidden--visually\" id=\"sk-estimator-id-2\" type=\"checkbox\" checked><label for=\"sk-estimator-id-2\" class=\"sk-toggleable__label sk-toggleable__label-arrow\">DecisionTreeClassifier</label><div class=\"sk-toggleable__content\"><pre>DecisionTreeClassifier(random_state=85)</pre></div></div></div></div></div>"
      ],
      "text/plain": [
       "DecisionTreeClassifier(random_state=85)"
      ]
     },
     "execution_count": 26,
     "metadata": {},
     "output_type": "execute_result"
    }
   ],
   "source": [
    "from sklearn import tree\n",
    "\n",
    "dt_model = tree.DecisionTreeClassifier(random_state=85)\n",
    "\n",
    "dt_model.fit(Tf_en_x_train,en_y_train)"
   ]
  },
  {
   "cell_type": "code",
   "execution_count": 27,
   "id": "a70291de",
   "metadata": {},
   "outputs": [
    {
     "name": "stdout",
     "output_type": "stream",
     "text": [
      "0.68225\n",
      "              precision    recall  f1-score   support\n",
      "\n",
      "           0       0.70      0.72      0.71      1986\n",
      "           1       0.66      0.67      0.66      1987\n",
      "           2       0.73      0.73      0.73      1980\n",
      "           3       0.67      0.67      0.67      2029\n",
      "           4       0.67      0.66      0.66      1998\n",
      "           5       0.61      0.57      0.59      1986\n",
      "           6       0.77      0.79      0.78      1982\n",
      "           7       0.65      0.65      0.65      2052\n",
      "\n",
      "    accuracy                           0.68     16000\n",
      "   macro avg       0.68      0.68      0.68     16000\n",
      "weighted avg       0.68      0.68      0.68     16000\n",
      "\n",
      "0.68225\n"
     ]
    }
   ],
   "source": [
    "dt_pred = dt_model.predict(Tf_en_x_test)\n",
    "\n",
    "from sklearn.metrics import classification_report\n",
    "from sklearn.metrics import accuracy_score\n",
    "dt_acc = accuracy_score(en_y_test, dt_pred)\n",
    "\n",
    "print(dt_acc)\n",
    "\n",
    "print(classification_report(en_y_test,dt_pred))\n",
    "print(dt_model.score(Tf_en_x_test,en_y_test))"
   ]
  },
  {
   "cell_type": "code",
   "execution_count": 28,
   "id": "de903b7c",
   "metadata": {},
   "outputs": [
    {
     "data": {
      "text/html": [
       "<style>#sk-container-id-3 {color: black;background-color: white;}#sk-container-id-3 pre{padding: 0;}#sk-container-id-3 div.sk-toggleable {background-color: white;}#sk-container-id-3 label.sk-toggleable__label {cursor: pointer;display: block;width: 100%;margin-bottom: 0;padding: 0.3em;box-sizing: border-box;text-align: center;}#sk-container-id-3 label.sk-toggleable__label-arrow:before {content: \"▸\";float: left;margin-right: 0.25em;color: #696969;}#sk-container-id-3 label.sk-toggleable__label-arrow:hover:before {color: black;}#sk-container-id-3 div.sk-estimator:hover label.sk-toggleable__label-arrow:before {color: black;}#sk-container-id-3 div.sk-toggleable__content {max-height: 0;max-width: 0;overflow: hidden;text-align: left;background-color: #f0f8ff;}#sk-container-id-3 div.sk-toggleable__content pre {margin: 0.2em;color: black;border-radius: 0.25em;background-color: #f0f8ff;}#sk-container-id-3 input.sk-toggleable__control:checked~div.sk-toggleable__content {max-height: 200px;max-width: 100%;overflow: auto;}#sk-container-id-3 input.sk-toggleable__control:checked~label.sk-toggleable__label-arrow:before {content: \"▾\";}#sk-container-id-3 div.sk-estimator input.sk-toggleable__control:checked~label.sk-toggleable__label {background-color: #d4ebff;}#sk-container-id-3 div.sk-label input.sk-toggleable__control:checked~label.sk-toggleable__label {background-color: #d4ebff;}#sk-container-id-3 input.sk-hidden--visually {border: 0;clip: rect(1px 1px 1px 1px);clip: rect(1px, 1px, 1px, 1px);height: 1px;margin: -1px;overflow: hidden;padding: 0;position: absolute;width: 1px;}#sk-container-id-3 div.sk-estimator {font-family: monospace;background-color: #f0f8ff;border: 1px dotted black;border-radius: 0.25em;box-sizing: border-box;margin-bottom: 0.5em;}#sk-container-id-3 div.sk-estimator:hover {background-color: #d4ebff;}#sk-container-id-3 div.sk-parallel-item::after {content: \"\";width: 100%;border-bottom: 1px solid gray;flex-grow: 1;}#sk-container-id-3 div.sk-label:hover label.sk-toggleable__label {background-color: #d4ebff;}#sk-container-id-3 div.sk-serial::before {content: \"\";position: absolute;border-left: 1px solid gray;box-sizing: border-box;top: 0;bottom: 0;left: 50%;z-index: 0;}#sk-container-id-3 div.sk-serial {display: flex;flex-direction: column;align-items: center;background-color: white;padding-right: 0.2em;padding-left: 0.2em;position: relative;}#sk-container-id-3 div.sk-item {position: relative;z-index: 1;}#sk-container-id-3 div.sk-parallel {display: flex;align-items: stretch;justify-content: center;background-color: white;position: relative;}#sk-container-id-3 div.sk-item::before, #sk-container-id-3 div.sk-parallel-item::before {content: \"\";position: absolute;border-left: 1px solid gray;box-sizing: border-box;top: 0;bottom: 0;left: 50%;z-index: -1;}#sk-container-id-3 div.sk-parallel-item {display: flex;flex-direction: column;z-index: 1;position: relative;background-color: white;}#sk-container-id-3 div.sk-parallel-item:first-child::after {align-self: flex-end;width: 50%;}#sk-container-id-3 div.sk-parallel-item:last-child::after {align-self: flex-start;width: 50%;}#sk-container-id-3 div.sk-parallel-item:only-child::after {width: 0;}#sk-container-id-3 div.sk-dashed-wrapped {border: 1px dashed gray;margin: 0 0.4em 0.5em 0.4em;box-sizing: border-box;padding-bottom: 0.4em;background-color: white;}#sk-container-id-3 div.sk-label label {font-family: monospace;font-weight: bold;display: inline-block;line-height: 1.2em;}#sk-container-id-3 div.sk-label-container {text-align: center;}#sk-container-id-3 div.sk-container {/* jupyter's `normalize.less` sets `[hidden] { display: none; }` but bootstrap.min.css set `[hidden] { display: none !important; }` so we also need the `!important` here to be able to override the default hidden behavior on the sphinx rendered scikit-learn.org. See: https://github.com/scikit-learn/scikit-learn/issues/21755 */display: inline-block !important;position: relative;}#sk-container-id-3 div.sk-text-repr-fallback {display: none;}</style><div id=\"sk-container-id-3\" class=\"sk-top-container\"><div class=\"sk-text-repr-fallback\"><pre>DecisionTreeClassifier(class_weight=&#x27;balanced&#x27;, random_state=85)</pre><b>In a Jupyter environment, please rerun this cell to show the HTML representation or trust the notebook. <br />On GitHub, the HTML representation is unable to render, please try loading this page with nbviewer.org.</b></div><div class=\"sk-container\" hidden><div class=\"sk-item\"><div class=\"sk-estimator sk-toggleable\"><input class=\"sk-toggleable__control sk-hidden--visually\" id=\"sk-estimator-id-3\" type=\"checkbox\" checked><label for=\"sk-estimator-id-3\" class=\"sk-toggleable__label sk-toggleable__label-arrow\">DecisionTreeClassifier</label><div class=\"sk-toggleable__content\"><pre>DecisionTreeClassifier(class_weight=&#x27;balanced&#x27;, random_state=85)</pre></div></div></div></div></div>"
      ],
      "text/plain": [
       "DecisionTreeClassifier(class_weight='balanced', random_state=85)"
      ]
     },
     "execution_count": 28,
     "metadata": {},
     "output_type": "execute_result"
    }
   ],
   "source": [
    "from sklearn import tree\n",
    "\n",
    "dt_model2 = tree.DecisionTreeClassifier(random_state=85,class_weight=\"balanced\")\n",
    "\n",
    "dt_model2.fit(Tf_en_x_train,en_y_train,sample_weight=weight_list2)"
   ]
  },
  {
   "cell_type": "code",
   "execution_count": 29,
   "id": "272033b7",
   "metadata": {},
   "outputs": [
    {
     "name": "stdout",
     "output_type": "stream",
     "text": [
      "0.6893125\n",
      "              precision    recall  f1-score   support\n",
      "\n",
      "           0       0.72      0.73      0.72      1986\n",
      "           1       0.68      0.67      0.67      1987\n",
      "           2       0.75      0.73      0.74      1980\n",
      "           3       0.67      0.68      0.68      2029\n",
      "           4       0.67      0.67      0.67      1998\n",
      "           5       0.59      0.60      0.59      1986\n",
      "           6       0.77      0.79      0.78      1982\n",
      "           7       0.66      0.65      0.66      2052\n",
      "\n",
      "    accuracy                           0.69     16000\n",
      "   macro avg       0.69      0.69      0.69     16000\n",
      "weighted avg       0.69      0.69      0.69     16000\n",
      "\n",
      "0.6893125\n"
     ]
    }
   ],
   "source": [
    "dt_pred2 = dt_model2.predict(Tf_en_x_test)\n",
    "\n",
    "from sklearn.metrics import classification_report\n",
    "from sklearn.metrics import accuracy_score\n",
    "dt_acc2 = accuracy_score(en_y_test, dt_pred2)\n",
    "\n",
    "print(dt_acc2)\n",
    "\n",
    "print(classification_report(en_y_test,dt_pred2))\n",
    "print(dt_model2.score(Tf_en_x_test,en_y_test))"
   ]
  },
  {
   "cell_type": "code",
   "execution_count": 30,
   "id": "cf31d4b4",
   "metadata": {},
   "outputs": [
    {
     "data": {
      "image/png": "[encoded data removed]",
      "text/plain": [
       "<Figure size 1500x700 with 2 Axes>"
      ]
     },
     "metadata": {},
     "output_type": "display_data"
    }
   ],
   "source": [
    "from sklearn.metrics import confusion_matrix\n",
    "import seaborn as sns\n",
    "import matplotlib.pyplot as plt\n",
    "import numpy as np\n",
    "\n",
    "cm_nn = confusion_matrix(en_y_test, dt_pred2)\n",
    "\n",
    "plt.figure(figsize=(15, 7))\n",
    "sns.heatmap(cm_nn, annot=True ,cmap=\"Reds\", xticklabels=[0,1,2,3,4,5,6,7], yticklabels= [0,1,2,3,4,5,6,7], square=True)\n",
    "plt.xlabel(\"Predict\")\n",
    "# plt.ylable(\"Actual\")\n",
    "plt.show()"
   ]
  }
 ],
 "metadata": {
  "kernelspec": {
   "display_name": "Python 3 (ipykernel)",
   "language": "python",
   "name": "python3"
  },
  "language_info": {
   "codemirror_mode": {
    "name": "ipython",
    "version": 3
   },
   "file_extension": ".py",
   "mimetype": "text/x-python",
   "name": "python",
   "nbconvert_exporter": "python",
   "pygments_lexer": "ipython3",
   "version": "3.10.8"
  }
 },
 "nbformat": 4,
 "nbformat_minor": 5
}
